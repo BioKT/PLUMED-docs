{
 "cells": [
  {
   "cell_type": "code",
   "execution_count": null,
   "id": "3ca29e8a",
   "metadata": {},
   "outputs": [],
   "source": [
    "import numpy as np\n",
    "import matplotlib.pyplot as plt\n",
    "import seaborn as sns\n",
    "sns.set(style=\"ticks\", color_codes=True, font_scale=1.5)\n",
    "sns.set_style({\"xtick.direction\": \"in\", \"ytick.direction\": \"in\"})"
   ]
  },
  {
   "cell_type": "code",
   "execution_count": null,
   "id": "6dee0d0f",
   "metadata": {},
   "outputs": [],
   "source": [
    "import plumed\n",
    "import wham"
   ]
  },
  {
   "cell_type": "markdown",
   "id": "98b8d859",
   "metadata": {},
   "source": [
    "### Equilibrium run"
   ]
  },
  {
   "cell_type": "code",
   "execution_count": null,
   "id": "1f74cdd4",
   "metadata": {},
   "outputs": [],
   "source": [
    "colvar=plumed.read_as_pandas(\"colvar.dat\")"
   ]
  },
  {
   "cell_type": "code",
   "execution_count": null,
   "id": "e2800ff8",
   "metadata": {},
   "outputs": [],
   "source": [
    "fig, ax = plt.subplots()\n",
    "ax.plot(colvar.time,colvar.phi,\".\",label=\"$\\phi$\")\n",
    "ax.plot(colvar.time,colvar.psi,\".\",label=\"$\\psi$\")\n",
    "\n",
    "ax.set_ylim(-np.pi, np.pi)\n",
    "ax.set_xlim(colvar.time[0], np.max(colvar.time))\n",
    "ax.set_xlabel(\"time\")\n",
    "ax.set_ylabel(\"Torsion angle\")\n",
    "\n",
    "plt.legend()\n",
    "plt.tight_layout()"
   ]
  },
  {
   "cell_type": "code",
   "execution_count": null,
   "id": "0446d2a8",
   "metadata": {},
   "outputs": [],
   "source": [
    "fig, ax = plt.subplots(figsize=(5,5))\n",
    "ax.plot(colvar.phi,colvar.psi,\"o\", ms=0.5)\n",
    "ax.set_xlabel(\"$\\phi$\")\n",
    "ax.set_ylabel(\"$\\psi$\")\n",
    "ax.set_xlim((-np.pi,np.pi))\n",
    "ax.set_ylim((-np.pi,np.pi))\n",
    "plt.show()"
   ]
  },
  {
   "cell_type": "code",
   "execution_count": null,
   "id": "df08bb3d",
   "metadata": {},
   "outputs": [],
   "source": [
    "fes_phi = plumed.read_as_pandas(\"fes_phi.dat\").replace([np.inf, -np.inf], \\\n",
    "                                                     np.nan).dropna()\n",
    "fes_psi = plumed.read_as_pandas(\"fes_psi.dat\").replace([np.inf, -np.inf], \\\n",
    "                                                     np.nan).dropna()"
   ]
  },
  {
   "cell_type": "code",
   "execution_count": null,
   "id": "50725903",
   "metadata": {},
   "outputs": [],
   "source": [
    "fig, ax = plt.subplots()\n",
    "ax.plot(fes_phi.phi,fes_phi.ffphi,label=\"$\\phi$\")\n",
    "ax.plot(fes_psi.psi,fes_psi.ffpsi,label=\"$\\psi$\")\n",
    "ax.set_xlim((-np.pi,np.pi))\n",
    "ax.set_ylim((-2,10))\n",
    "ax.set_xlabel(\"Torsion angle\")\n",
    "ax.set_ylabel(\"Free Energy\")\n",
    "plt.legend()\n",
    "plt.show()"
   ]
  },
  {
   "cell_type": "code",
   "execution_count": null,
   "id": "117e509a",
   "metadata": {},
   "outputs": [],
   "source": [
    "kBT=300*8.314462618*0.001 # use kJ/mol here\n",
    "\n",
    "col=[]\n",
    "for i in range(32):\n",
    "    col.append(plumed.read_as_pandas(\"colvar_multi_\" + str(i)+\".dat\"))\n",
    "\n",
    "bias = np.zeros((len(col[0][\"bb.bias\"]),32))\n",
    "for i in range(32):\n",
    "    bias[:,i] = col[i][\"bb.bias\"][-len(bias):]\n",
    "w = wham.wham(bias,T=kBT)\n",
    "colvar = col[0]\n",
    "colvar[\"logweights\"] = w[\"logW\"]\n",
    "plumed.write_pandas(colvar,\"bias_multi.dat\")"
   ]
  },
  {
   "cell_type": "code",
   "execution_count": null,
   "id": "845bf7f4",
   "metadata": {},
   "outputs": [],
   "source": [
    "col=[]\n",
    "for i in range(32):\n",
    "    col.append(plumed.read_as_pandas(\"colvar_multi_\" + str(i)+\".dat\"))"
   ]
  },
  {
   "cell_type": "code",
   "execution_count": null,
   "id": "19d7f21e",
   "metadata": {},
   "outputs": [],
   "source": [
    "fig, ax = plt.subplots(figsize=(4,4))\n",
    "for i in range(32):\n",
    "    ax.plot(col[i].phi[2001*i:2001*(i+1)],col[i].psi[2001*i:2001*(i+1)], \".\")\n",
    "ax.set_xlabel(\"$\\phi$\")\n",
    "ax.set_ylabel(\"$\\psi$\")\n",
    "ax.set_xlim(-np.pi, np.pi)\n",
    "ax.set_ylim(-np.pi, np.pi)\n",
    "plt.show()\n",
    "# in this graph you can appreciate which region was sampled by each simulation\n"
   ]
  },
  {
   "cell_type": "code",
   "execution_count": null,
   "id": "7be5943c",
   "metadata": {},
   "outputs": [],
   "source": [
    "fig, ax = plt.subplots()\n",
    "fes_phi=plumed.read_as_pandas(\"fes_phi.dat\").replace([np.inf, -np.inf], np.nan).dropna()\n",
    "ax.plot(fes_phi.phi,fes_phi.ffphi,label=\"original\")\n",
    "fes_phib=plumed.read_as_pandas(\"fes_phi_cat.dat\").replace([np.inf, -np.inf], np.nan).dropna()\n",
    "ax.plot(fes_phib.phi,fes_phib.ffphi,label=\"biased\")\n",
    "fes_phir=plumed.read_as_pandas(\"fes_phi_catr.dat\").replace([np.inf, -np.inf], np.nan).dropna()\n",
    "ax.plot(fes_phir.phi,fes_phir.ffphir,label=\"reweighted\")\n",
    "plt.legend()\n",
    "ax.set_xlim((-np.pi,np.pi))\n",
    "ax.set_xlabel(\"$\\phi$\")\n",
    "ax.set_ylabel(\"$F(\\phi)$\")\n",
    "plt.show()\n"
   ]
  },
  {
   "cell_type": "code",
   "execution_count": null,
   "id": "2559700b",
   "metadata": {},
   "outputs": [],
   "source": []
  }
 ],
 "metadata": {
  "kernelspec": {
   "display_name": "Python 3 (ipykernel)",
   "language": "python",
   "name": "python3"
  },
  "language_info": {
   "codemirror_mode": {
    "name": "ipython",
    "version": 3
   },
   "file_extension": ".py",
   "mimetype": "text/x-python",
   "name": "python",
   "nbconvert_exporter": "python",
   "pygments_lexer": "ipython3",
   "version": "3.11.0"
  }
 },
 "nbformat": 4,
 "nbformat_minor": 5
}
